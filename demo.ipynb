{
  "cells": [
    {
      "cell_type": "markdown",
      "metadata": {
        "id": "view-in-github",
        "colab_type": "text"
      },
      "source": [
        "<a href=\"https://colab.research.google.com/github/joeljalaganchalappuram/ScholarLab/blob/main/demo.ipynb\" target=\"_parent\"><img src=\"https://colab.research.google.com/assets/colab-badge.svg\" alt=\"Open In Colab\"/></a>"
      ]
    },
    {
      "cell_type": "markdown",
      "source": [
        "**PANDAS**"
      ],
      "metadata": {
        "id": "0wpYGKE_Y89Y"
      }
    },
    {
      "cell_type": "markdown",
      "source": [
        "# Installation\n",
        "\n",
        "to install = '$pip install pandas'"
      ],
      "metadata": {
        "id": "Rumz489mZL40"
      }
    },
    {
      "cell_type": "code",
      "source": [
        "import pandas as pd\n",
        "\n",
        "mydataset = {\n",
        "  'cars': [\"BMW\", \"Volvo\", \"Ford\"],\n",
        "  'passings': [3, 7, 2]\n",
        "}\n",
        "\n",
        "myvar = pd.DataFrame(mydataset)\n",
        "\n",
        "print(myvar)"
      ],
      "metadata": {
        "colab": {
          "base_uri": "https://localhost:8080/"
        },
        "id": "6cTEili1Y_K1",
        "outputId": "e70fa2b9-aae0-4219-bb98-f4ff35782778"
      },
      "execution_count": 3,
      "outputs": [
        {
          "output_type": "stream",
          "name": "stdout",
          "text": [
            "    cars  passings\n",
            "0    BMW         3\n",
            "1  Volvo         7\n",
            "2   Ford         2\n"
          ]
        }
      ]
    },
    {
      "cell_type": "markdown",
      "source": [
        "# Basics of Pandas\n",
        "Pandas is an open-source Python library that provides high-performance, easy-to-use data structures and data analysis tools. It is one of the most popular libraries in Python for data manipulation and analysis.\n",
        "\n",
        "# Key Features of Pandas\n",
        "\n",
        "\n",
        "1.   Data Structures: Pandas introduces two main data structures\n",
        "\n",
        "\n",
        "*   Series: A one-dimensional array-like object, similar to a list or a column in a table, with labels (index) for each data point.\n",
        "*   DataFrame: A two-dimensional, tabular data structure with labeled axes (rows and columns). It is similar to a spreadsheet or a SQL table, making it ideal for handling datasets.\n",
        "\n",
        "\n",
        "2.   Data Manipulation: It provides powerful tools to perform data manipulation tasks, such as merging,\n",
        "reshaping, selecting, and cleaning data.\n",
        "3. Handling Missing Data: Pandas has built-in functions to handle missing or incomplete data.\n",
        "4. Easy Data Import/Export: It supports reading and writing data from various file formats, including CSV, Excel, SQL databases, and JSON.\n",
        "\n",
        "\n"
      ],
      "metadata": {
        "id": "yiEoS_4hZaJl"
      }
    },
    {
      "cell_type": "markdown",
      "source": [
        "# What is a Series?\n",
        "A Pandas Series is like a column in a table.\n",
        "\n",
        "It is a one-dimensional array holding data of any type."
      ],
      "metadata": {
        "id": "SagjuBhFanpy"
      }
    },
    {
      "cell_type": "code",
      "source": [
        "a = [1, 7, 2]\n",
        "\n",
        "myvar = pd.Series(a)\n",
        "\n",
        "print(myvar)"
      ],
      "metadata": {
        "colab": {
          "base_uri": "https://localhost:8080/"
        },
        "id": "353F13nhZIEC",
        "outputId": "9e33b21c-84e4-4fb7-df81-1aaa35ee4e12"
      },
      "execution_count": 4,
      "outputs": [
        {
          "output_type": "stream",
          "name": "stdout",
          "text": [
            "0    1\n",
            "1    7\n",
            "2    2\n",
            "dtype: int64\n"
          ]
        }
      ]
    },
    {
      "cell_type": "markdown",
      "source": [
        "# Labels\n",
        "If nothing else is specified, the values are labeled with their index number. First value has index 0, second value has index 1 etc.\n",
        "\n",
        "This label can be used to access a specified value."
      ],
      "metadata": {
        "id": "Ot0vI-8Ja_lT"
      }
    },
    {
      "cell_type": "code",
      "source": [
        "print(myvar[0])"
      ],
      "metadata": {
        "colab": {
          "base_uri": "https://localhost:8080/"
        },
        "id": "HRWGSAHOa1TB",
        "outputId": "3dbc3b90-14ac-4613-8e0b-752daf19a426"
      },
      "execution_count": 4,
      "outputs": [
        {
          "output_type": "stream",
          "name": "stdout",
          "text": [
            "1\n"
          ]
        }
      ]
    },
    {
      "cell_type": "markdown",
      "source": [
        "# Create Labels\n",
        "With the index argument, you can name your own labels."
      ],
      "metadata": {
        "id": "tNjarNU2bKdJ"
      }
    },
    {
      "cell_type": "code",
      "source": [
        "a = [1, 7, 2]\n",
        "\n",
        "myvar = pd.Series(a, index = [\"x\", \"y\", \"z\"])\n",
        "\n",
        "print(myvar)"
      ],
      "metadata": {
        "colab": {
          "base_uri": "https://localhost:8080/"
        },
        "id": "HMeZgzq3bC52",
        "outputId": "07be845e-bb73-4d1f-b5c1-55396cf8f476"
      },
      "execution_count": 5,
      "outputs": [
        {
          "output_type": "stream",
          "name": "stdout",
          "text": [
            "x    1\n",
            "y    7\n",
            "z    2\n",
            "dtype: int64\n"
          ]
        }
      ]
    },
    {
      "cell_type": "markdown",
      "source": [
        "When you have created labels, you can access an item by referring to the label.\n",
        "\n"
      ],
      "metadata": {
        "id": "sN6YZZokRM42"
      }
    },
    {
      "cell_type": "code",
      "source": [
        "print(myvar[\"y\"])\n"
      ],
      "metadata": {
        "colab": {
          "base_uri": "https://localhost:8080/"
        },
        "id": "cnHNNjp6bUWu",
        "outputId": "43e35bae-a256-4807-e26a-87148bd23155"
      },
      "execution_count": 6,
      "outputs": [
        {
          "output_type": "stream",
          "name": "stdout",
          "text": [
            "7\n"
          ]
        }
      ]
    },
    {
      "cell_type": "markdown",
      "source": [
        "# Pandas DataFrames\n"
      ],
      "metadata": {
        "id": "VQ43cQfTRfuU"
      }
    },
    {
      "cell_type": "markdown",
      "source": [
        "## What is a DataFrame?\n",
        "A Pandas DataFrame is a 2 dimensional data structure, like a 2 dimensional array, or a table with rows and columns.\n",
        "\n",
        "Example"
      ],
      "metadata": {
        "id": "-DnGqid8RmDS"
      }
    },
    {
      "cell_type": "code",
      "source": [
        "import pandas as pd\n",
        "\n",
        "data = {\n",
        "  \"calories\": [420, 380, 390],\n",
        "  \"duration\": [50, 40, 45]\n",
        "}\n",
        "\n",
        "#load data into a DataFrame object:\n",
        "df = pd.DataFrame(data)\n",
        "\n",
        "print(df)"
      ],
      "metadata": {
        "colab": {
          "base_uri": "https://localhost:8080/"
        },
        "id": "9RaVJcTsRP78",
        "outputId": "aa431d6a-e027-49f7-cb23-bbe81f05f1e5"
      },
      "execution_count": 7,
      "outputs": [
        {
          "output_type": "stream",
          "name": "stdout",
          "text": [
            "   calories  duration\n",
            "0       420        50\n",
            "1       380        40\n",
            "2       390        45\n"
          ]
        }
      ]
    },
    {
      "cell_type": "markdown",
      "source": [
        "# Pandas can Read and load CSV\n",
        "## Read CSV Files\n",
        "A simple way to store big data sets is to use CSV files (comma separated files).\n",
        "\n",
        "CSV files contains plain text and is a well know format that can be read by everyone including Pandas.\n",
        "\n",
        "In our examples we will be using a CSV file called 'data.csv'.\n",
        "\n",
        "\n",
        "\n"
      ],
      "metadata": {
        "id": "xnvDCm2PRzvE"
      }
    },
    {
      "cell_type": "markdown",
      "source": [
        "### Creating csv file using pandas\n"
      ],
      "metadata": {
        "id": "gx6b_g-mSILH"
      }
    },
    {
      "cell_type": "code",
      "source": [
        "# Creating a simple dataset\n",
        "data = {\n",
        "    'Name': ['John', 'Emma', 'Liam', 'Olivia', 'Noah', 'Ava', 'William', 'Sophia', 'James', 'Mia'],\n",
        "    'Age': [15, 14, 16, 15, 14, 16, 15, 14, 16, 15],\n",
        "    'Grade': [10, 9, 11, 10, 9, 11, 10, 9, 11, 10],\n",
        "    'Math Score': [85, 92, 76, 89, 72, 95, 80, 88, 78, 91],\n",
        "    'Science Score': [78, 88, 83, 90, 65, 93, 85, 87, 82, 92],\n",
        "    'Sports Participation': ['Yes', 'No', 'Yes', 'Yes', 'No', 'Yes', 'No', 'Yes', 'No', 'Yes']\n",
        "}\n",
        "\n",
        "# Convert to DataFrame\n",
        "df = pd.DataFrame(data)\n",
        "\n",
        "# Save the DataFrame to a CSV file\n",
        "df.to_csv('students.csv', index=False)\n",
        "\n",
        "print(\"CSV file created successfully!\")"
      ],
      "metadata": {
        "colab": {
          "base_uri": "https://localhost:8080/"
        },
        "id": "u6tmOJOZRtxJ",
        "outputId": "0f01ceb4-6bca-4d31-d92e-65a5534de9ea"
      },
      "execution_count": 8,
      "outputs": [
        {
          "output_type": "stream",
          "name": "stdout",
          "text": [
            "CSV file created successfully!\n"
          ]
        }
      ]
    },
    {
      "cell_type": "markdown",
      "source": [
        "## Load the CSV into a DataFrame:"
      ],
      "metadata": {
        "id": "BWbQ7W7qSlEn"
      }
    },
    {
      "cell_type": "code",
      "source": [
        "df = pd.read_csv('students.csv')\n",
        "\n",
        "print(df.to_string())"
      ],
      "metadata": {
        "colab": {
          "base_uri": "https://localhost:8080/"
        },
        "id": "Us8DyFl-SZgO",
        "outputId": "89224e36-3597-47c4-b11b-58046ebfb018"
      },
      "execution_count": 10,
      "outputs": [
        {
          "output_type": "stream",
          "name": "stdout",
          "text": [
            "      Name  Age  Grade  Math Score  Science Score Sports Participation\n",
            "0     John   15     10          85             78                  Yes\n",
            "1     Emma   14      9          92             88                   No\n",
            "2     Liam   16     11          76             83                  Yes\n",
            "3   Olivia   15     10          89             90                  Yes\n",
            "4     Noah   14      9          72             65                   No\n",
            "5      Ava   16     11          95             93                  Yes\n",
            "6  William   15     10          80             85                   No\n",
            "7   Sophia   14      9          88             87                  Yes\n",
            "8    James   16     11          78             82                   No\n",
            "9      Mia   15     10          91             92                  Yes\n"
          ]
        }
      ]
    },
    {
      "cell_type": "markdown",
      "source": [
        "###  Tip: use to_string() to print the entire DataFrame.\n",
        "\n",
        "\n",
        "> note:-\n",
        "If you have a large DataFrame with many rows, Pandas will only return the first 5 rows, and the last 5 rows:\n",
        "\n",
        "\n",
        "\n"
      ],
      "metadata": {
        "id": "0wOZUt1xS0gH"
      }
    },
    {
      "cell_type": "code",
      "source": [
        "import random\n",
        "\n",
        "# Generate a dataset of 100 students\n",
        "data = {\n",
        "    'Name': [f'Student {i+1}' for i in range(100)],\n",
        "    'Age': [random.randint(14, 18) for _ in range(100)],\n",
        "    'Grade': [random.randint(9, 12) for _ in range(100)],\n",
        "    'Math Score': [random.randint(50, 100) for _ in range(100)],\n",
        "    'Science Score': [random.randint(50, 100) for _ in range(100)],\n",
        "    'Sports Participation': [random.choice(['Yes', 'No']) for _ in range(100)]\n",
        "}\n",
        "\n",
        "# Convert to DataFrame\n",
        "df = pd.DataFrame(data)\n",
        "\n",
        "# Save the DataFrame to a CSV file\n",
        "df.to_csv('students_extended.csv', index=False)\n",
        "\n",
        "# Display the first few rows\n",
        "print(df.head())"
      ],
      "metadata": {
        "colab": {
          "base_uri": "https://localhost:8080/"
        },
        "id": "gA8shb3LSqn2",
        "outputId": "25e57133-f3f4-4d47-9dcf-a5cfb97cc524"
      },
      "execution_count": 11,
      "outputs": [
        {
          "output_type": "stream",
          "name": "stdout",
          "text": [
            "        Name  Age  Grade  Math Score  Science Score Sports Participation\n",
            "0  Student 1   15     10          75             67                   No\n",
            "1  Student 2   16     12          67             56                  Yes\n",
            "2  Student 3   16     10          67             65                  Yes\n",
            "3  Student 4   16     10          77             76                  Yes\n",
            "4  Student 5   18     11          95             77                   No\n"
          ]
        }
      ]
    },
    {
      "cell_type": "markdown",
      "source": [
        "### max_rows\n",
        "The number of rows returned is defined in Pandas option settings.\n",
        "\n",
        "You can check your system's maximum rows with the pd.options.display.max_rows statement."
      ],
      "metadata": {
        "id": "s0smJcM6TdNE"
      }
    },
    {
      "cell_type": "code",
      "source": [
        "print(pd.options.display.max_rows)"
      ],
      "metadata": {
        "colab": {
          "base_uri": "https://localhost:8080/"
        },
        "id": "z9XeqRFlTPI4",
        "outputId": "2e3d9fbc-879c-4dcf-db92-35be7bc8bb6a"
      },
      "execution_count": 12,
      "outputs": [
        {
          "output_type": "stream",
          "name": "stdout",
          "text": [
            "60\n"
          ]
        }
      ]
    },
    {
      "cell_type": "markdown",
      "source": [
        "# Viewing the Data\n",
        "One of the most used method for getting a quick overview of the DataFrame, is the head() method.\n",
        "\n",
        "The head() method returns the headers and a specified number of rows, starting from the top.\n",
        "\n"
      ],
      "metadata": {
        "id": "jXYxxFBxTvLl"
      }
    },
    {
      "cell_type": "code",
      "source": [
        "df = pd.read_csv('students_extended.csv')\n",
        "\n",
        "print(df.head(10))"
      ],
      "metadata": {
        "colab": {
          "base_uri": "https://localhost:8080/"
        },
        "id": "YM6Jv5IeTkRb",
        "outputId": "c67c9dab-d980-472b-8584-79f1a69678dd"
      },
      "execution_count": 13,
      "outputs": [
        {
          "output_type": "stream",
          "name": "stdout",
          "text": [
            "         Name  Age  Grade  Math Score  Science Score Sports Participation\n",
            "0   Student 1   15     10          75             67                   No\n",
            "1   Student 2   16     12          67             56                  Yes\n",
            "2   Student 3   16     10          67             65                  Yes\n",
            "3   Student 4   16     10          77             76                  Yes\n",
            "4   Student 5   18     11          95             77                   No\n",
            "5   Student 6   17     10          59             89                   No\n",
            "6   Student 7   17     10          68             52                   No\n",
            "7   Student 8   15     12          84             59                  Yes\n",
            "8   Student 9   15     10          83             81                   No\n",
            "9  Student 10   15     12          71             94                  Yes\n"
          ]
        }
      ]
    },
    {
      "cell_type": "code",
      "source": [],
      "metadata": {
        "id": "WANcWQDrT2bu"
      },
      "execution_count": null,
      "outputs": []
    }
  ],
  "metadata": {
    "colab": {
      "name": "Welcome to Colaboratory",
      "provenance": [],
      "include_colab_link": true
    },
    "kernelspec": {
      "display_name": "Python 3",
      "name": "python3"
    }
  },
  "nbformat": 4,
  "nbformat_minor": 0
}